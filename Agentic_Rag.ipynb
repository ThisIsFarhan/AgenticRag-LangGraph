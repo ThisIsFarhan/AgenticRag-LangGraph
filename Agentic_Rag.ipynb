{
  "nbformat": 4,
  "nbformat_minor": 0,
  "metadata": {
    "colab": {
      "provenance": [],
      "authorship_tag": "ABX9TyPxbozNUXA0hw9kt+/59Rze",
      "include_colab_link": true
    },
    "kernelspec": {
      "name": "python3",
      "display_name": "Python 3"
    },
    "language_info": {
      "name": "python"
    }
  },
  "cells": [
    {
      "cell_type": "markdown",
      "metadata": {
        "id": "view-in-github",
        "colab_type": "text"
      },
      "source": [
        "<a href=\"https://colab.research.google.com/github/ThisIsFarhan/AgenticRag-LangGraph/blob/main/Agentic_Rag.ipynb\" target=\"_parent\"><img src=\"https://colab.research.google.com/assets/colab-badge.svg\" alt=\"Open In Colab\"/></a>"
      ]
    },
    {
      "cell_type": "code",
      "execution_count": 81,
      "metadata": {
        "id": "LLm6MBhSCRpI"
      },
      "outputs": [],
      "source": [
        "%%capture --no-stderr\n",
        "%pip install --quiet -U langchain langchain_community pypdf tiktoken langchain_groq langgraph tavily-python sentence_transformers langchain_huggingface"
      ]
    },
    {
      "cell_type": "code",
      "source": [
        "from langchain.text_splitter import RecursiveCharacterTextSplitter\n",
        "from langchain_community.document_loaders import PyPDFLoader\n",
        "from langchain_huggingface import HuggingFaceEmbeddings\n",
        "from langchain_community.vectorstores import SKLearnVectorStore\n",
        "from langchain_community.tools.tavily_search import TavilySearchResults\n",
        "from langgraph.graph import StateGraph, START, END\n",
        "from IPython.display import Image, display\n",
        "from typing_extensions import TypedDict\n",
        "from typing import List\n",
        "from langchain_groq import ChatGroq\n",
        "from langchain.schema import Document\n",
        "import os"
      ],
      "metadata": {
        "id": "5bMa58S6oN4f"
      },
      "execution_count": 116,
      "outputs": []
    },
    {
      "cell_type": "code",
      "source": [
        "from google.colab import userdata\n",
        "\n",
        "groq_api_key=userdata.get('groq_api_key')\n",
        "tavily_key = userdata.get('TAVILY_API_KEY')\n",
        "os.environ['TAVILY_API_KEY'] = tavily_key\n",
        "llm=ChatGroq(groq_api_key=groq_api_key,model_name=\"Gemma2-9b-It\")"
      ],
      "metadata": {
        "id": "ZyxzES6KpPKm"
      },
      "execution_count": 113,
      "outputs": []
    },
    {
      "cell_type": "code",
      "source": [
        "embeddings = HuggingFaceEmbeddings(model_name=\"all-mpnet-base-v2\")"
      ],
      "metadata": {
        "id": "iFJgMtLuq_wE"
      },
      "execution_count": 84,
      "outputs": []
    },
    {
      "cell_type": "code",
      "source": [
        "loader = PyPDFLoader(\n",
        "    file_path = \"./iot_pdf.pdf\",\n",
        ")\n",
        "documents = loader.load()"
      ],
      "metadata": {
        "id": "hOfk5QzlsFbG"
      },
      "execution_count": 85,
      "outputs": []
    },
    {
      "cell_type": "code",
      "source": [
        "text_splitter = RecursiveCharacterTextSplitter.from_tiktoken_encoder(\n",
        "    chunk_size=1000, chunk_overlap=200\n",
        ")\n",
        "doc_splits = text_splitter.split_documents(documents)"
      ],
      "metadata": {
        "id": "vrmMulGmssvO"
      },
      "execution_count": 86,
      "outputs": []
    },
    {
      "cell_type": "code",
      "source": [
        "vectorstore = SKLearnVectorStore.from_documents(\n",
        "    documents=doc_splits,\n",
        "    embedding=embeddings,\n",
        ")"
      ],
      "metadata": {
        "id": "Nzn1h6HVtU2f"
      },
      "execution_count": 87,
      "outputs": []
    },
    {
      "cell_type": "code",
      "source": [
        "retriever = vectorstore.as_retriever(k=3)"
      ],
      "metadata": {
        "id": "XwewpUKKtfR8"
      },
      "execution_count": 88,
      "outputs": []
    },
    {
      "cell_type": "code",
      "source": [
        "retriever.invoke(\"ipv6\")"
      ],
      "metadata": {
        "colab": {
          "base_uri": "https://localhost:8080/"
        },
        "id": "lA9srYeftu6E",
        "outputId": "577a0bea-5f3a-4ab3-a599-8924d1af8475"
      },
      "execution_count": 97,
      "outputs": [
        {
          "output_type": "execute_result",
          "data": {
            "text/plain": [
              "[Document(metadata={'id': '7607af94-32c5-4127-b93a-67a97dceefd7', 'source': './iot_pdf.pdf', 'page': 2, 'page_label': '3'}, page_content='8\\n2.1 IPv6 Introduction  \\nWhen we use the Internet for any activ ity, be it e-mail, data transmission, web \\nbrowsing, downloading files, images or videos or any other service or application, \\ncommunication between different network elements and our own computer, laptop \\nor smart phone, uses a protocol: The IP (Internet protocol) which specifies the \\ntechnical format of packets and the addressing scheme for computers to \\ncommunicate over a network. \\n \\nIPv6 (Internet protocol version 6 ) is the most recent version of the IP, the \\ncommunications protocol that provides an  identification and location system for \\ncomputers on networks and routes traffic across the Internet. \\n \\nIn order to connect any device to Internet it’s necessary to provide an IP address to \\nthe device. The first version of an Internet Protocol publicly used was IPv4 (Internet \\nprotocol version 4). This protocol was created by the Defense Advanced Research \\nProjects Agency (DARPA). DARPA is an agency of the U.S. Department of \\nDefense responsible for the development of emerging technologies mainly for \\nmilitary applications created in 1958. IPv4 included an addressing system that used \\nnumerical identifiers consisting of 32 bits. The use of addresses with a length of 32 \\nbits limits the total number of possible addresses to a number of approximately 4.3 \\nbillion addresses for devices connected to internet around the world. The number \\nof devices connected to Inte rnet will be soon bigger th an the number of addresses \\nprovided by IPv4. For this r eason, and in an ticipation of the situ ation, the agency \\nresponsible for standardization of Internet protocols: The IETF ( Internet \\nEngineering Task Force ) has been working in a new IP version from 1998: The \\nIPv6, the successor protocol that is inte nded to replace IPv4 was first formally \\ndescribed in Internet standard document RFC 2460 [3]. \\nIPv6 uses a 128-bit address format, allowing 2 128, or approximately 3.4 10 38 \\naddresses, approximately 8 1028 times as many as IPv4. While increasing the pool \\nof addresses is one of the most important benefits of IPv6, there are other important \\ntechnological changes in IPv6 that w ill improve the IP protocol: easier \\nadministration, better multicast routing, a simpler header format and more efficient \\nrouting, built-in authentication and privacy support among others. \\nIPv6 will coexist with the older IPv4 for some time. The deployment of IPv6 will \\nbe made gradually in an orderly coexis tence with IPv4. Client devices, network \\nequipment, applications, content and services are to be adapted to the new Internet \\nprotocol version IPv6. Moreover, the transi tion from IPv4 to IP v6 will establish a \\ncommon set of standards between companies, educational systems, around the \\nworld. \\nIPv6 addresses are represente d as eight groups of four hexadecimal digits. These \\ngroups are separated by colons , but methods to abbreviate this full notation exist. \\nThe IPv6 header format is shown by Fig. 1. \\nE=m·c 2'),\n",
              " Document(metadata={'id': 'fc233a1c-764a-4b69-84a9-a04891a27c16', 'source': './iot_pdf.pdf', 'page': 1, 'page_label': '2'}, page_content='7\\n  2  IPv6 Introduction  \\nThis chapter gives a basic in troduction to IPv6: Internet protocol version 6, which \\nis necessary for IoT.'),\n",
              " Document(metadata={'id': 'b93254bd-7199-44c6-a3fa-12f1df785856', 'source': './iot_pdf.pdf', 'page': 3, 'page_label': '4'}, page_content='9\\n \\nFig. 1. IPv6 Header Format [3] \\n \\nStructure of IPv6 Header  \\nVersion 4-bit Internet Protocol version number = 6. \\nTraffic Class 8-bit traffic class field.  \\nFlow Label 20-bit flow label.   \\nPayload Length \\n16-bit unsigned integer.  Length of the IPv6 \\npayload, i.e., the rest of the packet following this \\nIPv6 header, in octets.   \\nNext Header \\n8-bit selector.  Identifies the type of header \\nimmediately following the IPv6 header. Uses the \\nsame values as the IPv4 protocol field \\nHop Limit \\n8-bit unsigned integer.  Decremented by 1 by each \\nnode that forwards the packet. The packet is \\ndiscarded if Hop Limit is decremented to zero. \\nSource Address 128-bit address of the originator of the packet \\nDestination Address \\nAddress 128-bit address of the intended recipient \\nof the packet (possibly not the ultimate recipient, if  \\na routing header is present).   \\n \\nThe new features introduced with the IPv6 protocol are basically the following : A \\nnew header format, an efficient and hierarchical addressing and routing \\ninfrastructure,  a much larger address space and stateless and both firewall address \\nconfiguration, IP security, extensibility, a better Quality of Service (QoS) support \\nand a new protocol for neighboring node interaction. \\nThe IPv6 protocol has solved some of the security problems found in IPv4 networks \\nby adding the IPsec (IP security) as mandatory. As a result, IPv6 is more efficient. \\nIPsec enhances the original IP protoc ol by providing authenticity, integrity, \\nconfidentiality and access control to each  IP packet through the use of two'),\n",
              " Document(metadata={'id': '73e550c0-5f22-40f3-8180-c748af8c87a5', 'source': './iot_pdf.pdf', 'page': 4, 'page_label': '5'}, page_content='10\\nprotocols: AH ( authentication header ) and ESP ( encapsulating security \\npayload).Moreover, the expansion of the number of bits in the address field to 128 \\nbits offered by IPv6 creates a significant barrier for attackers wanting to conduct \\ncomprehensive port scanning. On the other hand, it is possible to bind a public \\nsignature key to an IPv6 address: CGA (Cryptographically Generated Address).   \\nIPv6 offers also improvements on mobility security. Despite that the MobileIP \\nInternet protocol is available in both IP v4 and IPv6, in IPv6 it was built into the \\nprotocol instead of being added as a new function in IPv4. This means that any IPv6 \\nnode can use a mobile IP both as requir ed. Mobile IPv6 uses two extensions \\nheadline: A routing header for registration and a headline target to data delivery \\nbetween mobile nodes and their corresponding fixed nodes.')]"
            ]
          },
          "metadata": {},
          "execution_count": 97
        }
      ]
    },
    {
      "cell_type": "code",
      "source": [
        "\n",
        "class State(TypedDict):\n",
        "  question:str #question asked by the user\n",
        "  retrieved_docs:List[str] #docs retrieved from the database\n",
        "  web_search_decision:str # Yes or No (whether or not the documents are related to each other)\n",
        "  generated_response:str\n",
        "\n",
        "#Nodes Definition\n",
        "def retrieve(state:State):\n",
        "  print(\"------Retrieve------\")\n",
        "  ques = state[\"question\"]\n",
        "  documents = retriever.invoke(ques)\n",
        "  return {\"retrieved_docs\":documents}\n",
        "\n",
        "\n",
        "\n",
        "\n",
        "doc_grader_instructions = \"\"\"You are a grader assessing relevance of a retrieved document to a user question.\n",
        "\n",
        "If the document contains keyword(s) or semantic meaning related to the question, grade it as relevant.\"\"\"\n",
        "\n",
        "doc_grader_prompt = \"\"\"Here is the retrieved document: \\n\\n {document} \\n\\n Here is the user question: \\n\\n {question}.\n",
        "\n",
        "This carefully and objectively assess whether the document contains at least some information that is relevant to the question.\n",
        "\n",
        "Return binary_score, that is only 'yes' or 'no' to indicate whether the document contains at least some information that is relevant to the question.\"\"\"\n",
        "\n",
        "def grade(state:State):\n",
        "  print(\"------Grade------\")\n",
        "  docs = state[\"retrieved_docs\"]\n",
        "  ques = state[\"question\"]\n",
        "  web_search = \"no\"\n",
        "  filtered = []\n",
        "  for d in docs:\n",
        "    doc_grader_prompt_formatted = doc_grader_prompt.format(document=d.page_content, question=ques)\n",
        "    result = llm.invoke(\n",
        "                    [SystemMessage(content=doc_grader_instructions)]\n",
        "                    + [HumanMessage(content=doc_grader_prompt_formatted)]\n",
        "                  )\n",
        "    if \"yes\" in result.content.lower():\n",
        "      print(\"---GRADE: DOCUMENT RELEVANT---\")\n",
        "      filtered.append(d)\n",
        "    else:\n",
        "      print(\"---GRADE: DOCUMENT NOT RELEVANT---\")\n",
        "      web_search = \"yes\"\n",
        "      continue\n",
        "\n",
        "  return {\"retrieved_docs\":filtered,\n",
        "          \"web_search_decision\":web_search\n",
        "          }\n",
        "\n",
        "\n",
        "def web_search(state:State):\n",
        "    print(\"---WEB SEARCH---\")\n",
        "    ques = state[\"question\"]\n",
        "    documents = state[\"retrieved_docs\"]\n",
        "\n",
        "    # Web search\n",
        "    web_search_tool = TavilySearchResults(max_results=3)\n",
        "    docs = web_search_tool.invoke({\"query\": ques})\n",
        "    web_results = \"\\n\".join([d[\"content\"] for d in docs])\n",
        "    web_results = Document(page_content=web_results)\n",
        "    documents.append(web_results)\n",
        "    return {\"retrieved_docs\": documents}\n",
        "\n",
        "\n",
        "\n",
        "\n",
        "rag_prompt = \"\"\"You are an assistant for question-answering tasks.\n",
        "\n",
        "Here is the context to use to answer the question:\n",
        "\n",
        "{context}\n",
        "\n",
        "Think carefully about the above context.\n",
        "\n",
        "Now, review the user question:\n",
        "\n",
        "{question}\n",
        "\n",
        "Provide an answer to this questions using only the above context. If the context contains any URLs, then you should mention the URLs in the answer and mention that the answers have been fetched from web search since the provided pdf did not contain that information\n",
        "\n",
        "keep the answer concise.\n",
        "\n",
        "Answer:\"\"\"\n",
        "\n",
        "def generate(state:State):\n",
        "    print(\"------Generate------\")\n",
        "    docs = state[\"retrieved_docs\"]\n",
        "    ques = state[\"question\"]\n",
        "\n",
        "    docs_txt = \"\\n\\n\".join(doc.page_content for doc in docs)\n",
        "    rag_prompt_formatted = rag_prompt.format(context=docs_txt, question=ques)\n",
        "    generation = llm.invoke([HumanMessage(content=rag_prompt_formatted)])\n",
        "\n",
        "    return {\"generated_response\":generation.content}\n",
        "\n",
        "\n",
        "#conditional edge function\n",
        "def decide_web_search(state:State):\n",
        "  print(\"------Decide Web Search------\")\n",
        "  decision = state[\"web_search_decision\"]\n",
        "  if decision == \"yes\":\n",
        "    return \"web_search\"\n",
        "  else:\n",
        "    return \"generate\"\n",
        "\n",
        "#Graph Building\n",
        "builder = StateGraph(State)\n",
        "builder.add_node(\"retrieve\",retrieve)\n",
        "builder.add_node(\"grade\",grade)\n",
        "builder.add_node(\"web_search\",web_search)\n",
        "builder.add_node(\"generate\",generate)\n",
        "\n",
        "builder.add_edge(START,\"retrieve\")\n",
        "builder.add_edge(\"retrieve\",\"grade\")\n",
        "builder.add_conditional_edges(\"grade\",decide_web_search,[\"web_search\",\"generate\"])\n",
        "builder.add_edge(\"web_search\",\"generate\")\n",
        "builder.add_edge(\"generate\",END)\n",
        "\n",
        "graph = builder.compile()\n",
        "display(Image(graph.get_graph().draw_mermaid_png()))"
      ],
      "metadata": {
        "colab": {
          "base_uri": "https://localhost:8080/",
          "height": 548
        },
        "id": "srDswy3qtti4",
        "outputId": "3cd6e648-1327-41ac-f6ce-b1692dc4a807"
      },
      "execution_count": 119,
      "outputs": [
        {
          "output_type": "display_data",
          "data": {
            "image/png": "[encoded data removed]",
            "text/plain": [
              "<IPython.core.display.Image object>"
            ]
          },
          "metadata": {}
        }
      ]
    },
    {
      "cell_type": "code",
      "source": [
        "inputs = {\"question\": \"Smart connected products capabilities\"}\n",
        "responses = {}  # Store responses for each node\n",
        "\n",
        "for event in graph.stream(inputs, stream_mode=\"values\"):\n",
        "    responses.update(event)  # Store response\n",
        "\n",
        "print(\"\\nGenerated Response:\")\n",
        "print(responses['generated_response'])  # Access generated response"
      ],
      "metadata": {
        "colab": {
          "base_uri": "https://localhost:8080/"
        },
        "id": "XYrlDmBk78uy",
        "outputId": "1a315ab6-015e-4789-9da8-f26f5205e34c"
      },
      "execution_count": 126,
      "outputs": [
        {
          "output_type": "stream",
          "name": "stdout",
          "text": [
            "------Retrieve------\n",
            "------Grade------\n",
            "---GRADE: DOCUMENT RELEVANT---\n",
            "---GRADE: DOCUMENT NOT RELEVANT---\n",
            "---GRADE: DOCUMENT RELEVANT---\n",
            "---GRADE: DOCUMENT RELEVANT---\n",
            "------Decide Web Search------\n",
            "---WEB SEARCH---\n",
            "------Generate------\n",
            "\n",
            "Generated Response:\n",
            "Smart connected products capabilities can be grouped into four areas: \n",
            "\n",
            "1. **Monitoring:**  Tracking the product's condition, operations, and usage.\n",
            "2. **Control:** Allowing users to control product functions, personalize experiences, and program settings.\n",
            "3. **Optimization:**  Using predictive diagnostics, performance optimization, and cost reduction strategies.\n",
            "4. **Autonomy:** Enabling self-diagnosis, repair, coordination with other products, and efficient decision-making through real-time data. \n",
            "\n",
            "\n",
            "\n"
          ]
        }
      ]
    }
  ]
}